{
 "cells": [
  {
   "cell_type": "code",
   "execution_count": 0,
   "metadata": {
    "application/vnd.databricks.v1+cell": {
     "cellMetadata": {
      "byteLimit": 2048000,
      "rowLimit": 10000
     },
     "inputWidgets": {},
     "nuid": "dec0b02d-da58-4ea0-8426-f825b323d49e",
     "showTitle": true,
     "tableResultSettingsMap": {},
     "title": "Import Libraries"
    }
   },
   "outputs": [],
   "source": [
    "import sqlmesh\n",
    "import os"
   ]
  },
  {
   "cell_type": "code",
   "execution_count": 0,
   "metadata": {
    "application/vnd.databricks.v1+cell": {
     "cellMetadata": {
      "byteLimit": 2048000,
      "rowLimit": 10000
     },
     "inputWidgets": {},
     "nuid": "ba21d53c-9783-4711-adf0-6110bfc301a2",
     "showTitle": true,
     "tableResultSettingsMap": {},
     "title": "Get Secrets"
    }
   },
   "outputs": [],
   "source": [
    "os.environ['DATABRICKS_STATE_DB_USER'] = dbutils.secrets.get(scope = \"AzureKeyVaultSecrets\", key = \"UsernameTo-SqlMeshStateDatabase\")\n",
    "os.environ['DATABRICKS_STATE_DB_PASSWORD'] = dbutils.secrets.get(scope = \"AzureKeyVaultSecrets\", key = \"PasswordTo-SqlMeshStateDatabase\")\n",
    "os.environ['DATABRICKS_ACCESS_TOKEN'] = dbutils.secrets.get(scope = \"AzureKeyVaultSecrets\", key = \"TokenTo-DatabricksAPI\")"
   ]
  },
  {
   "cell_type": "code",
   "execution_count": 0,
   "metadata": {
    "application/vnd.databricks.v1+cell": {
     "cellMetadata": {
      "byteLimit": 2048000,
      "rowLimit": 10000
     },
     "inputWidgets": {},
     "nuid": "2dceba12-f57d-4238-aa29-5814c27198c8",
     "showTitle": false,
     "tableResultSettingsMap": {},
     "title": ""
    }
   },
   "outputs": [],
   "source": [
    "os.environ['ENABLED_GATEWAYS']=\"databricks\"\n",
    "os.environ['DEFAULT_GATEWAY']='databricks'\n",
    "os.environ['STATE_SCHEMA']=\"stroma\"\n",
    "os.environ['DATABRICKS_SERVER_HOSTNAME']=\"adb-1868816176859647.7.azuredatabricks.net\"\n",
    "os.environ['DATABRICKS_HTTP_PATH']=\"/sql/1.0/warehouses/0aec44b2e70e201d\" # X-small\n",
    "os.environ['DATABRICKS_CATALOG']=\"rde_dev\"\n",
    "os.environ['DATABRICKS_CATALOG_SOURCE']=\"dbw-lsc-uks-datadev-dlz-01\"\n",
    "os.environ['DATABRICKS_SCHEMA_BASE']=\"lth_omop\"\n",
    "os.environ['DATABRICKS_SCHEMA_VOCAB']=\"lth_omop\"\n",
    "os.environ['DATABRICKS_CONCURRENT_TASKS']='8'\n",
    "os.environ['DATABRICKS_STATE_DB_HOST']=\"lscsdeprod-psql.postgres.database.azure.com\"\n",
    "os.environ['DATABRICKS_STATE_DB_PORT']='5432'\n",
    "os.environ['DATABRICKS_STATE_DB_DATABASE']=\"sqlmesh_stroma\"\n",
    "\n",
    "\n",
    "print('Environment variables set.')"
   ]
  },
  {
   "cell_type": "code",
   "execution_count": 0,
   "metadata": {
    "application/vnd.databricks.v1+cell": {
     "cellMetadata": {
      "byteLimit": 2048000,
      "rowLimit": 10000
     },
     "inputWidgets": {},
     "nuid": "24341a45-0659-4189-97bb-6e7bb79cd811",
     "showTitle": false,
     "tableResultSettingsMap": {},
     "title": ""
    }
   },
   "outputs": [],
   "source": [
    "%context ../stroma/"
   ]
  },
  {
   "cell_type": "code",
   "execution_count": 0,
   "metadata": {
    "application/vnd.databricks.v1+cell": {
     "cellMetadata": {
      "byteLimit": 2048000,
      "rowLimit": 10000
     },
     "inputWidgets": {},
     "nuid": "e2711f7f-128f-47e8-bdf9-932ba2eca7f3",
     "showTitle": false,
     "tableResultSettingsMap": {},
     "title": ""
    }
   },
   "outputs": [],
   "source": [
    "# Uncomment next line to run a migration when SQLMesh upgrade results in a request for migration.\n",
    "#  %migrate"
   ]
  },
  {
   "cell_type": "code",
   "execution_count": 0,
   "metadata": {
    "application/vnd.databricks.v1+cell": {
     "cellMetadata": {
      "byteLimit": 2048000,
      "rowLimit": 10000
     },
     "inputWidgets": {},
     "nuid": "0192afef-d5bb-47fd-83a0-a415de8743c7",
     "showTitle": false,
     "tableResultSettingsMap": {},
     "title": ""
    }
   },
   "outputs": [],
   "source": [
    "%plan vc --include-unmodified"
   ]
  }
 ],
 "metadata": {
  "application/vnd.databricks.v1+notebook": {
   "computePreferences": null,
   "dashboards": [],
   "environmentMetadata": null,
   "language": "python",
   "notebookMetadata": {
    "mostRecentlyExecutedCommandWithImplicitDF": {
     "commandId": 4529519292928838,
     "dataframes": [
      "_sqldf"
     ]
    },
    "pythonIndentUnit": 4
   },
   "notebookName": "sqlmesh_runner",
   "widgets": {}
  },
  "kernelspec": {
   "display_name": "Python 3 (ipykernel)",
   "language": "python",
   "name": "python3"
  },
  "language_info": {
   "name": "python"
  }
 },
 "nbformat": 4,
 "nbformat_minor": 0
}
